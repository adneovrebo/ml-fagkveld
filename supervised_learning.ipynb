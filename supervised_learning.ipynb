{
 "cells": [
  {
   "cell_type": "code",
   "execution_count": null,
   "metadata": {},
   "outputs": [],
   "source": [
    "! pip install pandas openai scikit-learn matplotlib"
   ]
  },
  {
   "cell_type": "code",
   "execution_count": null,
   "metadata": {},
   "outputs": [],
   "source": [
    "# Alt du trenger skal være importert her\n",
    "import pandas as pd\n",
    "from openai import AzureOpenAI\n",
    "from sklearn.model_selection import train_test_split\n",
    "from sklearn.metrics import classification_report\n",
    "from sklearn.preprocessing import LabelEncoder\n",
    "\n",
    "AZURE_OPENAI_API_KEY=\"\"\n",
    "AZURE_OPENAI_ENDPOINT=\"\""
   ]
  },
  {
   "cell_type": "markdown",
   "metadata": {},
   "source": [
    "# TODO 1:  Les datasett\n",
    "1. Datasettet ligger i dataset.csv\n",
    "2. Utforsk strukturen til datasettet\n",
    "3. Fjern NaN-verdier\n",
    "4. Er datasettet balansert?\n",
    "5. Konverter topics til int\n",
    "\n",
    "\n",
    "Nyttige lenker:\n",
    "- https://www.w3schools.com/python/pandas/pandas_csv.asp\n",
    "- https://www.w3schools.com/python/pandas/pandas_analyzing.asp\n",
    "- https://scikit-learn.org/stable/modules/generated/sklearn.preprocessing.LabelEncoder.html"
   ]
  },
  {
   "cell_type": "code",
   "execution_count": null,
   "metadata": {},
   "outputs": [],
   "source": [
    "# Code ..."
   ]
  },
  {
   "cell_type": "markdown",
   "metadata": {},
   "source": [
    "# TODO 2: Generer embeddings\n",
    "\n",
    "Benytt ADA002 modell fra OpenAI til å generere embeddings for teksten.\n",
    "Hint: Man må gjerne opprette en egen kolonne for å holde denne dataen.\n",
    "\n",
    "Funksjonen for å generere embeddings fra OpenAI er forhåndslagd."
   ]
  },
  {
   "cell_type": "code",
   "execution_count": null,
   "metadata": {},
   "outputs": [],
   "source": [
    "client = AzureOpenAI(\n",
    "  api_key = AZURE_OPENAI_API_KEY,\n",
    "  api_version = \"2024-02-01\",\n",
    "  azure_endpoint = AZURE_OPENAI_ENDPOINT\n",
    ")\n",
    "\n",
    "def generate_embeddings(texts: list[str]):\n",
    "    response =  client.embeddings.create(input = texts, model=\"ada002\")\n",
    "    return [embedding.embedding for embedding in response.data]"
   ]
  },
  {
   "cell_type": "code",
   "execution_count": null,
   "metadata": {},
   "outputs": [],
   "source": [
    "\n",
    "# Legg embeddings til datasettet"
   ]
  },
  {
   "cell_type": "markdown",
   "metadata": {},
   "source": [
    "# TODO 3: Generer datasett\n",
    "- Splitt opp datasettet i to deler: treningssett og testsett.\n",
    "\n",
    "Hint: https://scikit-learn.org/stable/modules/generated/sklearn.model_selection.train_test_split.html"
   ]
  },
  {
   "cell_type": "code",
   "execution_count": null,
   "metadata": {},
   "outputs": [],
   "source": [
    "# Split datasettet i trenings- og testsett"
   ]
  },
  {
   "cell_type": "markdown",
   "metadata": {},
   "source": [
    "# TODO 4: Velg og tren en modell\n",
    "- Hvilket type problem er dette?\n",
    "- Når steg 5 er utført, kom gjerne tilbake for å teste flere modeller.\n",
    "\n",
    "Hint: https://scikit-learn.org/stable/modules/ensemble.html\n"
   ]
  },
  {
   "cell_type": "code",
   "execution_count": null,
   "metadata": {},
   "outputs": [],
   "source": [
    "# Importer og treng en modell\n",
    "from sklearn.ensemble import \n",
    "\n",
    "# Tren modellen"
   ]
  },
  {
   "cell_type": "markdown",
   "metadata": {},
   "source": [
    "# TODO 5: Evaluer modellen\n",
    "Hvordan gjør modellen det på testdatasettet?\n",
    "\n",
    "1. Prediker på testdatastetet\n",
    "2. Evaluer hvordan modellen gjorde det på datasettet: https://scikit-learn.org/stable/modules/generated/sklearn.metrics.classification_report.html"
   ]
  },
  {
   "cell_type": "code",
   "execution_count": null,
   "metadata": {},
   "outputs": [],
   "source": [
    "# Code ..."
   ]
  },
  {
   "cell_type": "markdown",
   "metadata": {},
   "source": [
    "# TODO 6 (Ekstra): Visualisering\n",
    "- Gjør en Principle Component Analysis og plott modellen for å gjøre det visuelt.\n",
    "- Hint PCA: https://scikit-learn.org/stable/modules/generated/sklearn.decomposition.PCA.html\n",
    "- Hint plotting: https://scikit-learn.org/stable/auto_examples/datasets/plot_random_dataset.html"
   ]
  },
  {
   "cell_type": "code",
   "execution_count": null,
   "metadata": {},
   "outputs": [],
   "source": [
    "import matplotlib.pyplot as plt\n",
    "\n",
    "def plot_pca(X_train_pca, X_test_pca, y_train, y_test):\n",
    "    \"\"\"Hjelpefunksjon for å plotte resulatet etter PCA\"\"\"\n",
    "    plt.figure(figsize=(10, 6))\n",
    "    lw = 2\n",
    "    for color, i, target_name in zip(['navy', 'turquoise', 'darkorange'], [0, 1, 2], ['SPORTS', 'SCIENCE', 'HEALTH']):\n",
    "        plt.scatter(X_test_pca[y_test == i, 0], X_test_pca[y_test == i, 1], color=color, alpha=.8, lw=lw, label=f\"{target_name} - Test\", marker='x')\n",
    "        plt.scatter(X_train_pca[y_train == i, 0], X_train_pca[y_train == i, 1], color=color, alpha=.8, lw=lw, label=f\"{target_name} - Train\", marker='o')\n",
    "    plt.legend()\n"
   ]
  },
  {
   "cell_type": "code",
   "execution_count": null,
   "metadata": {},
   "outputs": [],
   "source": [
    "from sklearn.decomposition import PCA\n",
    "\n",
    "# Utfør PCA på trenings- og testsettet\n",
    "\n",
    "\n",
    "def plot_pca(X_train_pca, X_test_pca, y_train, y_test):\n",
    "    \"\"\"Hjelpefunksjon for å plotte resulatet etter PCA\"\"\"\n",
    "    plt.figure(figsize=(10, 6))\n",
    "    lw = 2\n",
    "    for color, i, target_name in zip(['navy', 'turquoise', 'darkorange'], [0, 1, 2], ['SPORTS', 'SCIENCE', 'HEALTH']):\n",
    "        plt.scatter(X_test_pca[y_test == i, 0], X_test_pca[y_test == i, 1], color=color, alpha=.8, lw=lw, label=f\"{target_name} - Test\", marker='x')\n",
    "        plt.scatter(X_train_pca[y_train == i, 0], X_train_pca[y_train == i, 1], color=color, alpha=.8, lw=lw, label=f\"{target_name} - Train\", marker='o')\n",
    "    plt.legend()\n",
    "\n",
    "plot_pca(X_train_pca, X_test_pca, y_train, y_test)"
   ]
  },
  {
   "cell_type": "markdown",
   "metadata": {},
   "source": [
    "# TODO 6 (Ekstra): Clustering\n",
    "\n",
    "Er det mulig å finne klassene dersom man ikke hadde hatt label?\n",
    "- Velg en modell som kan benyttes.\n",
    "- Tren modellen\n",
    "- Prediker på test og train\n",
    "\n",
    "- Hint: https://scikit-learn.org/stable/modules/clustering.html\n",
    "- Hint: https://scikit-learn.org/stable/modules/clustering.html#k-means\n"
   ]
  },
  {
   "cell_type": "code",
   "execution_count": null,
   "metadata": {},
   "outputs": [],
   "source": [
    "def plot_clustering(X_train_pca, X_test_pca, y_train_clustering_predict, y_test_clustering_predict):\n",
    "    \"\"\"Hjelpefunksjon for å plotte clustering\"\"\"\n",
    "    plt.figure(figsize=(10, 6))\n",
    "    plt.scatter(X_train_pca[:, 0], X_train_pca[:, 1], c=y_train_clustering_predict, cmap='viridis', label='Train')\n",
    "    plt.scatter(X_test_pca[:, 0], X_test_pca[:, 1], c=y_test_clustering_predict, cmap='viridis', marker='x', label='Test')    \n",
    "    plt.legend()\n",
    "    plt.show()"
   ]
  },
  {
   "cell_type": "code",
   "execution_count": null,
   "metadata": {},
   "outputs": [],
   "source": [
    "from sklearn.cluster import \n",
    "\n",
    "\n",
    "# Tren en clustering modell og plot resultatet\n"
   ]
  },
  {
   "cell_type": "code",
   "execution_count": null,
   "metadata": {},
   "outputs": [],
   "source": []
  }
 ],
 "metadata": {
  "kernelspec": {
   "display_name": "base",
   "language": "python",
   "name": "python3"
  },
  "language_info": {
   "codemirror_mode": {
    "name": "ipython",
    "version": 3
   },
   "file_extension": ".py",
   "mimetype": "text/x-python",
   "name": "python",
   "nbconvert_exporter": "python",
   "pygments_lexer": "ipython3",
   "version": "3.11.8"
  }
 },
 "nbformat": 4,
 "nbformat_minor": 2
}
